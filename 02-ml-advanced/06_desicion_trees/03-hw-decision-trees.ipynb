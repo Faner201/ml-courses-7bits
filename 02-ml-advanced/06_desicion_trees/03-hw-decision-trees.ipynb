{
 "cells": [
  {
   "cell_type": "markdown",
   "metadata": {},
   "source": [
    "# Домашняя работа 9. Деревья решений. (32 балла)\n",
    "\n",
    "1. Скачайте этот ноутбук к себе.\n",
    "2. Заполните пропущенные ячейки, отвечая на заданные вопросы. Там должен быть код! (если не сказано обратное)\n",
    "3. Сохраните результат в своём гитхаб репозитории.\n",
    "\n",
    "## Полезная литература\n",
    "\n",
    "- [Habrahabr: ODS деревья решений](https://habrahabr.ru/company/ods/blog/322534/#derevo-resheniy)\n",
    "- [ВМК МГУ семинары по решающим деревьям](https://github.com/esokolov/ml-course-msu/blob/master/ML16/lecture-notes/Sem04_trees.pdf)\n",
    "- [Sklearn Decision Trees](http://scikit-learn.org/stable/modules/tree.html)"
   ]
  },
  {
   "cell_type": "markdown",
   "metadata": {},
   "source": [
    "## 1. Сравнение моделей деревьев\n",
    "\n",
    "В этом блоке вы сравните разные конфигурации композиций деревьев:\n",
    "- DecisionTree\n",
    "- Bagging\n",
    "- Bagging с другими настройками подбора признаков для разбиения\n",
    "- RandomForest\n",
    "\n",
    "Будем использовать [датасет с винишком](https://archive.ics.uci.edu/ml/datasets/wine+quality) - это задача то ли классификации то ли регресси - нужно предсказывать качество вина. Будем думать что это классификация.\n",
    "\n",
    "![](https://upload.wikimedia.org/wikipedia/en/thumb/7/7c/Lulz_Security.svg/300px-Lulz_Security.svg.png)"
   ]
  },
  {
   "cell_type": "markdown",
   "metadata": {},
   "source": [
    "### 1.1 Чтение данных (1 балла)\n",
    "\n",
    "Данные лежат как обычно в `'../../data/winequality-red.csv.gz'`.\n",
    "\n",
    "- Прочитайте их с помощью pandas\n",
    "- нарисуйте countplot целевого признака `quality`.\n",
    "- Что вы думаете по поводу количества представителей каждого класса.\n",
    "- Разбейте данные на X и y."
   ]
  },
  {
   "cell_type": "code",
   "execution_count": 1,
   "metadata": {},
   "outputs": [],
   "source": [
    "%matplotlib inline\n",
    "import pandas as pd\n",
    "import numpy as np\n",
    "from matplotlib import pyplot as plt\n",
    "import seaborn as sns\n",
    "from sklearn.model_selection import train_test_split, KFold, cross_val_score\n",
    "from sklearn.metrics import classification_report, confusion_matrix, f1_score"
   ]
  },
  {
   "cell_type": "code",
   "execution_count": 7,
   "metadata": {},
   "outputs": [
    {
     "data": {
      "text/html": [
       "<div>\n",
       "<style scoped>\n",
       "    .dataframe tbody tr th:only-of-type {\n",
       "        vertical-align: middle;\n",
       "    }\n",
       "\n",
       "    .dataframe tbody tr th {\n",
       "        vertical-align: top;\n",
       "    }\n",
       "\n",
       "    .dataframe thead th {\n",
       "        text-align: right;\n",
       "    }\n",
       "</style>\n",
       "<table border=\"1\" class=\"dataframe\">\n",
       "  <thead>\n",
       "    <tr style=\"text-align: right;\">\n",
       "      <th></th>\n",
       "      <th>fixed acidity</th>\n",
       "      <th>volatile acidity</th>\n",
       "      <th>citric acid</th>\n",
       "      <th>residual sugar</th>\n",
       "      <th>chlorides</th>\n",
       "      <th>free sulfur dioxide</th>\n",
       "      <th>total sulfur dioxide</th>\n",
       "      <th>density</th>\n",
       "      <th>pH</th>\n",
       "      <th>sulphates</th>\n",
       "      <th>alcohol</th>\n",
       "      <th>quality</th>\n",
       "    </tr>\n",
       "  </thead>\n",
       "  <tbody>\n",
       "    <tr>\n",
       "      <th>0</th>\n",
       "      <td>7.4</td>\n",
       "      <td>0.70</td>\n",
       "      <td>0.00</td>\n",
       "      <td>1.9</td>\n",
       "      <td>0.076</td>\n",
       "      <td>11.0</td>\n",
       "      <td>34.0</td>\n",
       "      <td>0.9978</td>\n",
       "      <td>3.51</td>\n",
       "      <td>0.56</td>\n",
       "      <td>9.4</td>\n",
       "      <td>5</td>\n",
       "    </tr>\n",
       "    <tr>\n",
       "      <th>1</th>\n",
       "      <td>7.8</td>\n",
       "      <td>0.88</td>\n",
       "      <td>0.00</td>\n",
       "      <td>2.6</td>\n",
       "      <td>0.098</td>\n",
       "      <td>25.0</td>\n",
       "      <td>67.0</td>\n",
       "      <td>0.9968</td>\n",
       "      <td>3.20</td>\n",
       "      <td>0.68</td>\n",
       "      <td>9.8</td>\n",
       "      <td>5</td>\n",
       "    </tr>\n",
       "    <tr>\n",
       "      <th>2</th>\n",
       "      <td>7.8</td>\n",
       "      <td>0.76</td>\n",
       "      <td>0.04</td>\n",
       "      <td>2.3</td>\n",
       "      <td>0.092</td>\n",
       "      <td>15.0</td>\n",
       "      <td>54.0</td>\n",
       "      <td>0.9970</td>\n",
       "      <td>3.26</td>\n",
       "      <td>0.65</td>\n",
       "      <td>9.8</td>\n",
       "      <td>5</td>\n",
       "    </tr>\n",
       "    <tr>\n",
       "      <th>3</th>\n",
       "      <td>11.2</td>\n",
       "      <td>0.28</td>\n",
       "      <td>0.56</td>\n",
       "      <td>1.9</td>\n",
       "      <td>0.075</td>\n",
       "      <td>17.0</td>\n",
       "      <td>60.0</td>\n",
       "      <td>0.9980</td>\n",
       "      <td>3.16</td>\n",
       "      <td>0.58</td>\n",
       "      <td>9.8</td>\n",
       "      <td>6</td>\n",
       "    </tr>\n",
       "    <tr>\n",
       "      <th>4</th>\n",
       "      <td>7.4</td>\n",
       "      <td>0.70</td>\n",
       "      <td>0.00</td>\n",
       "      <td>1.9</td>\n",
       "      <td>0.076</td>\n",
       "      <td>11.0</td>\n",
       "      <td>34.0</td>\n",
       "      <td>0.9978</td>\n",
       "      <td>3.51</td>\n",
       "      <td>0.56</td>\n",
       "      <td>9.4</td>\n",
       "      <td>5</td>\n",
       "    </tr>\n",
       "  </tbody>\n",
       "</table>\n",
       "</div>"
      ],
      "text/plain": [
       "   fixed acidity  volatile acidity  citric acid  residual sugar  chlorides  \\\n",
       "0            7.4              0.70         0.00             1.9      0.076   \n",
       "1            7.8              0.88         0.00             2.6      0.098   \n",
       "2            7.8              0.76         0.04             2.3      0.092   \n",
       "3           11.2              0.28         0.56             1.9      0.075   \n",
       "4            7.4              0.70         0.00             1.9      0.076   \n",
       "\n",
       "   free sulfur dioxide  total sulfur dioxide  density    pH  sulphates  \\\n",
       "0                 11.0                  34.0   0.9978  3.51       0.56   \n",
       "1                 25.0                  67.0   0.9968  3.20       0.68   \n",
       "2                 15.0                  54.0   0.9970  3.26       0.65   \n",
       "3                 17.0                  60.0   0.9980  3.16       0.58   \n",
       "4                 11.0                  34.0   0.9978  3.51       0.56   \n",
       "\n",
       "   alcohol  quality  \n",
       "0      9.4        5  \n",
       "1      9.8        5  \n",
       "2      9.8        5  \n",
       "3      9.8        6  \n",
       "4      9.4        5  "
      ]
     },
     "execution_count": 7,
     "metadata": {},
     "output_type": "execute_result"
    }
   ],
   "source": [
    "df = pd.read_csv('../data/winequality-red.csv.gz', sep = ';')\n",
    "df.head()"
   ]
  },
  {
   "cell_type": "code",
   "execution_count": 9,
   "metadata": {},
   "outputs": [
    {
     "data": {
      "text/plain": [
       "quality\n",
       "5    681\n",
       "6    638\n",
       "7    199\n",
       "4     53\n",
       "8     18\n",
       "3     10\n",
       "Name: count, dtype: int64"
      ]
     },
     "execution_count": 9,
     "metadata": {},
     "output_type": "execute_result"
    }
   ],
   "source": [
    "df['quality'].value_counts()"
   ]
  },
  {
   "cell_type": "code",
   "execution_count": 12,
   "metadata": {},
   "outputs": [
    {
     "data": {
      "text/plain": [
       "<Axes: xlabel='quality', ylabel='count'>"
      ]
     },
     "execution_count": 12,
     "metadata": {},
     "output_type": "execute_result"
    },
    {
     "data": {
      "image/png": "[encoded data removed]",
      "text/plain": [
       "<Figure size 640x480 with 1 Axes>"
      ]
     },
     "metadata": {},
     "output_type": "display_data"
    }
   ],
   "source": [
    "sns.countplot(x='quality', data=df)"
   ]
  },
  {
   "cell_type": "code",
   "execution_count": 13,
   "metadata": {},
   "outputs": [],
   "source": [
    "X = df.drop(['quality'], axis=1)\n",
    "y = df['quality']"
   ]
  },
  {
   "cell_type": "markdown",
   "metadata": {},
   "source": [
    "### 1.2 Сравнение моделей (4 балла)\n",
    "\n",
    "Задача классификации. Все признаки уже числовые. Значит можно пробовать просто все модели и выбрать лучшую. Так и поступим, сделайте кросс валидацию на 5 фолдах, используя `sklearn.model_selection.KFold` как аргумент у `cross_val_score`. Метрика качества будет `accuracy`.\n",
    "\n",
    "Алгоритмы для тестирования:\n",
    "- KNeighborsClassifier с 10 соседями\n",
    "- KNeighborsClassifier с 10 соседями и масштабированием StandartScaler\n",
    "- RidgeClassifier\n",
    "- DecisionTreeClassifier \n",
    "- BaggingClassifier c 100 деревьев\n",
    "- BaggingClassifier с 100 деревьев и каждое дерево обучается только по половине случайно выбранных признаков (см аргументы)\n",
    "- RandomForestClassifier c 100 деревьев\n",
    "\n",
    "Выведите среднее значение метрики качества для каждого из классификаторов. \n",
    "\n",
    "**hint**: каждый следующий алгоритм, будет показывать качество лучше, чем предыдущий. Если у вас не так - то что-то вы делаете неправильно. Везде зафиксируйте random_state=42."
   ]
  },
  {
   "cell_type": "code",
   "execution_count": 14,
   "metadata": {},
   "outputs": [],
   "source": [
    "from sklearn.neighbors import KNeighborsClassifier\n",
    "from sklearn.linear_model import RidgeClassifier\n",
    "from sklearn.tree import DecisionTreeClassifier\n",
    "from sklearn.ensemble import BaggingClassifier\n",
    "from sklearn.ensemble import RandomForestClassifier\n",
    "from sklearn.preprocessing import StandardScaler\n",
    "from sklearn.model_selection import KFold"
   ]
  },
  {
   "cell_type": "code",
   "execution_count": 15,
   "metadata": {},
   "outputs": [
    {
     "name": "stdout",
     "output_type": "stream",
     "text": [
      "mean =  0.49971590909090907  std =  0.02357372600696035\n"
     ]
    }
   ],
   "source": [
    "clf_kn_10 = KNeighborsClassifier(n_neighbors = 10)\n",
    "\n",
    "kf = KFold(n_splits=5, shuffle=True, random_state = 73)\n",
    "\n",
    "scores = cross_val_score(clf_kn_10, X, y, scoring='accuracy', cv=kf, n_jobs = -1)\n",
    "print('mean = ', scores.mean(), ' std = ', np.std(scores))"
   ]
  },
  {
   "cell_type": "code",
   "execution_count": 16,
   "metadata": {},
   "outputs": [
    {
     "name": "stdout",
     "output_type": "stream",
     "text": [
      "mean =  0.5835325235109717  std =  0.03472681703295673\n"
     ]
    }
   ],
   "source": [
    "clf_kn_10_sc = KNeighborsClassifier(n_neighbors = 10)\n",
    "\n",
    "kf = KFold(n_splits=5, shuffle=True, random_state = 73)\n",
    "\n",
    "scaler = StandardScaler()\n",
    "scaled_X = scaler.fit_transform(X)\n",
    "\n",
    "scores = cross_val_score(clf_kn_10_sc, scaled_X, y, scoring='accuracy', cv=kf, n_jobs = -1)\n",
    "print('mean = ', scores.mean(), ' std = ', np.std(scores))"
   ]
  },
  {
   "cell_type": "code",
   "execution_count": 21,
   "metadata": {},
   "outputs": [
    {
     "name": "stdout",
     "output_type": "stream",
     "text": [
      "mean =  0.5866281347962382  std =  0.030363263050429\n"
     ]
    }
   ],
   "source": [
    "clf_ridge = RidgeClassifier()\n",
    "\n",
    "kf = KFold(n_splits=5, shuffle=True, random_state = 73)\n",
    "\n",
    "scores = cross_val_score(clf_ridge, X, y, scoring='accuracy', cv=kf, n_jobs = -1)\n",
    "print('mean = ', scores.mean(), ' std = ', np.std(scores))"
   ]
  },
  {
   "cell_type": "code",
   "execution_count": 17,
   "metadata": {},
   "outputs": [
    {
     "name": "stdout",
     "output_type": "stream",
     "text": [
      "mean =  0.6222825235109718  std =  0.032538342753436915\n"
     ]
    }
   ],
   "source": [
    "clf_dt = DecisionTreeClassifier()\n",
    "\n",
    "kf = KFold(n_splits=5, shuffle=True, random_state = 73)\n",
    "\n",
    "scores = cross_val_score(clf_dt, X, y, scoring='accuracy', cv=kf, n_jobs = -1)\n",
    "print('mean = ', scores.mean(), ' std = ', np.std(scores))"
   ]
  },
  {
   "cell_type": "code",
   "execution_count": 18,
   "metadata": {},
   "outputs": [
    {
     "name": "stdout",
     "output_type": "stream",
     "text": [
      "mean =  0.6773275862068966  std =  0.02509648074370951\n"
     ]
    }
   ],
   "source": [
    "clf_bc = BaggingClassifier(n_estimators=100)\n",
    "\n",
    "kf = KFold(n_splits=5, shuffle=True, random_state = 73)\n",
    "\n",
    "scores = cross_val_score(clf_bc, X, y, scoring='accuracy', cv=kf, n_jobs = -1)\n",
    "print('mean = ', scores.mean(), ' std = ', np.std(scores))"
   ]
  },
  {
   "cell_type": "code",
   "execution_count": 19,
   "metadata": {},
   "outputs": [
    {
     "name": "stdout",
     "output_type": "stream",
     "text": [
      "mean =  0.6779467084639498  std =  0.018813367223427774\n"
     ]
    }
   ],
   "source": [
    "clf_bc_h = BaggingClassifier(n_estimators=100, max_features=X.shape[1] // 2 + 1)\n",
    "\n",
    "kf = KFold(n_splits=5, shuffle=True, random_state = 73)\n",
    "\n",
    "scores = cross_val_score(clf_bc_h, X, y, scoring='accuracy', cv=kf, n_jobs = -1)\n",
    "print('mean = ', scores.mean(), ' std = ', np.std(scores))"
   ]
  },
  {
   "cell_type": "code",
   "execution_count": 20,
   "metadata": {},
   "outputs": [
    {
     "name": "stdout",
     "output_type": "stream",
     "text": [
      "mean =  0.6929486677115988  std =  0.013991956350816936\n"
     ]
    }
   ],
   "source": [
    "clf_rf = RandomForestClassifier(n_estimators=100, random_state=73)\n",
    "\n",
    "kf = KFold(n_splits=5, shuffle=True, random_state = 73)\n",
    "\n",
    "scores = cross_val_score(clf_rf, X, y, scoring='accuracy', cv=kf, n_jobs = -1)\n",
    "print('mean = ', scores.mean(), ' std = ', np.std(scores))"
   ]
  },
  {
   "cell_type": "markdown",
   "metadata": {},
   "source": [
    "### 1.3 Расуждения (8 баллов)\n",
    "\n",
    "Ответьте на вопросы развернуто, можете полистать литературу:\n",
    "\n",
    "- почему наблюдается значимая разница в качестве у KNeighborsClassifier с масштабированием и без\n",
    "- почему масштабирование не важно для деревьев решений\n",
    "- почему бэггинг на половине признаков для каждого дерева дал качество предсказания больше, чем на всех? (а он дал!)\n",
    "- у какой модели наибольшей отклонение от среднего качества предсказаний? А почему??"
   ]
  },
  {
   "cell_type": "markdown",
   "metadata": {},
   "source": [
    "1. Почему наблюдается значимая разница в качестве у KNeighborsClassifier с масштабированием и без?\n",
    "\n",
    "Потому что KNeighborsClassifier использует метрику расстояния между объектами. Так как в наборе данных много признаков, поэтому трудно подобрать подходящие веса, а также определить, какие признаки не важны для задачи МО.\n",
    "\n",
    "2. Почему масштабирование не важно для деревьев решений?\n",
    "\n",
    "Потому что построение деревьев ведется по каким то эмпирически или интуитивно понятным правилам. И деревья как правило представляют большую конструкцию из if - else. То есть построение дерева решений зависит от условия, и не использует метрики расстояния, а использует метрику энтропии.\n",
    "\n",
    "3. Почему бэггинг на половине признаков для каждого дерева дал качество предсказания больше, чем на всех? (а он дал!)\n",
    "\n",
    "Потому что, Бэггинг эффективен на малых выборках, когда исключение казалось бы малой части обучающих объектов приводит к построению существенно различных базовых моделей. В случае больших выборок обычно генерируют подвыборки существенно меньшей длины.\n",
    "\n",
    "4. У какой модели наибольшее отклонение от среднего качества предсказаний? А почему??\n",
    "\n",
    "У DecisonTreeClassifier так как деревья очень чувствительны к шумам во входных данных, вся модель может кардинально измениться, если немного изменится обучающая выборка. Разделяющая граница, построенная деревом решений, имеет свои ограничения (состоит из гиперплоскостей, перпендикулярных какой-то из координатной оси). Небольшие изменения в данных могут существенно изменять построенное дерево решений. С этой проблемой борются с помощью ансамблей деревьев решений. У KNeighborsClassifier так как из за малого числа соседей метод чувствителен к выбросам, то есть склонен переобучаться."
   ]
  },
  {
   "cell_type": "markdown",
   "metadata": {},
   "source": [
    "## 2 Переобучение и Ко\n",
    "\n",
    "В последнем задании вы уже заметили, что случайный лес может вести себя немного нестабильно. В этом задании мы возьмем опять датасет MNIST(простите) и будем его решать деревьями. Почему мы взяли его? Потому что в нем фактически много разных признаков (значения пикселей в пространстве), а деревья строятся делая разбиения по признакам. Обычно на эти разбиения не обращают внимание, так как главное что тюнят - это глубина дереьвев, количество деревьев, а кучу других параметров обходят стороной, так как они \"неясные\". Попробуем прояснить их."
   ]
  },
  {
   "cell_type": "markdown",
   "metadata": {},
   "source": [
    "### 2.1 Загрузка датасета (1 балл)\n",
    "\n",
    "Загрузите датасет с помощью функции `sklearn.datasets.load_digits`. В нем будут 64px картинки в векторной форме.\n",
    "\n",
    "Нарисуйте первые 10 цифр в одной ячейке, чтобы было красиво."
   ]
  },
  {
   "cell_type": "code",
   "execution_count": 22,
   "metadata": {},
   "outputs": [
    {
     "name": "stdout",
     "output_type": "stream",
     "text": [
      "Экземпляров: 1797\n",
      "Размер изображения: 8.0x8.0\n"
     ]
    }
   ],
   "source": [
    "from sklearn import datasets\n",
    "\n",
    "X, y = datasets.load_digits(return_X_y=True)\n",
    "\n",
    "print(\"Экземпляров: {}\\nРазмер изображения: {}x{}\".format(X.shape[0], np.sqrt(X.shape[1]), np.sqrt(X.shape[1])))"
   ]
  },
  {
   "cell_type": "code",
   "execution_count": 23,
   "metadata": {},
   "outputs": [
    {
     "data": {
      "image/png": "[encoded data removed]",
      "text/plain": [
       "<Figure size 500x500 with 10 Axes>"
      ]
     },
     "metadata": {},
     "output_type": "display_data"
    }
   ],
   "source": [
    "import matplotlib.pyplot as plt\n",
    "import matplotlib.cm as cm\n",
    "plt.figure(figsize=(5, 5))\n",
    "for i in range(10):\n",
    "    img = X[y==i][0].reshape(8,8)\n",
    "    plt.subplot(2, 5, i + 1)\n",
    "    plt.imshow(img, cmap='gray')"
   ]
  },
  {
   "cell_type": "markdown",
   "metadata": {},
   "source": [
    "### 2.2 Перебор классификаторов (3 балла)\n",
    "\n",
    "В этом задании вам снова придется перебрать несколько классификаторов, но теперь мы обратим внимание на другие гиперпараметры и их влияние на качество классификации, кстати опять `accuracy`.\n",
    "\n",
    "Сделайте кроссвалидацию на 10 фолдах, указав `cv=10` для следующих классификаторов:\n",
    "\n",
    "- DecisionTreeClassifier с параметрами по-умолчанию\n",
    "- BaggingClassifier с 100 деревьвев\n",
    "- BaggingClassifier с 100 деревьев, НО с ограничением на максимальное количество признаков, участвующих при обучении каждого из деревьев в $\\sqrt{N}$, где $N$ - это число признаков.\n",
    "- BaggingClassifier с 100 деревьев, НО с ограничением на количество признаков участвующих в разбиении для каждого из деревьев в $\\sqrt{N}$, где $N$ - это число признаков. Это отличается от предыдущей модели тем, где ограничивается `max_features`. Читайте документацию :trollface:\n",
    "- обычный случайный лес со 100 деревьями"
   ]
  },
  {
   "cell_type": "code",
   "execution_count": 24,
   "metadata": {},
   "outputs": [
    {
     "name": "stdout",
     "output_type": "stream",
     "text": [
      "mean =  0.8369545032497678  std =  0.01878524973625773\n"
     ]
    }
   ],
   "source": [
    "clf_dt_mnist = DecisionTreeClassifier()\n",
    "\n",
    "kf = KFold(n_splits=5, shuffle=True, random_state = 73)\n",
    "\n",
    "scores = cross_val_score(clf_dt_mnist, X, y, scoring='accuracy', cv=kf, n_jobs = -1)\n",
    "print('mean = ', scores.mean(), ' std = ', np.std(scores))"
   ]
  },
  {
   "cell_type": "code",
   "execution_count": 25,
   "metadata": {},
   "outputs": [
    {
     "name": "stdout",
     "output_type": "stream",
     "text": [
      "mean =  0.9504812751470133  std =  0.00864731970717124\n"
     ]
    }
   ],
   "source": [
    "clf_bc_mnist = BaggingClassifier(n_estimators=100)\n",
    "\n",
    "kf = KFold(n_splits=5, shuffle=True, random_state = 73)\n",
    "\n",
    "scores = cross_val_score(clf_bc_mnist, X, y, scoring='accuracy', cv=kf, n_jobs = -1)\n",
    "print('mean = ', scores.mean(), ' std = ', np.std(scores))"
   ]
  },
  {
   "cell_type": "code",
   "execution_count": 26,
   "metadata": {},
   "outputs": [],
   "source": [
    "from sklearn.datasets import make_classification\n",
    "\n",
    "X_mc, y_mc = make_classification(n_samples=100, n_features=int(np.sqrt(X.shape[1])))"
   ]
  },
  {
   "cell_type": "code",
   "execution_count": 27,
   "metadata": {},
   "outputs": [
    {
     "name": "stdout",
     "output_type": "stream",
     "text": [
      "mean =  0.8099999999999999  std =  0.12806248474865697\n"
     ]
    }
   ],
   "source": [
    "clf_bc_mf_sqrt_mnist_h = BaggingClassifier() \n",
    "\n",
    "kf = KFold(n_splits=5, shuffle=True, random_state = 73)\n",
    "\n",
    "scores = cross_val_score(clf_bc_mf_sqrt_mnist_h, X_mc, y_mc, scoring='accuracy', cv=kf, n_jobs = -1)\n",
    "print('mean = ', scores.mean(), ' std = ', np.std(scores))"
   ]
  },
  {
   "cell_type": "code",
   "execution_count": 28,
   "metadata": {},
   "outputs": [
    {
     "name": "stdout",
     "output_type": "stream",
     "text": [
      "mean =  0.9749613122872176  std =  0.004640825542459014\n"
     ]
    }
   ],
   "source": [
    "\n",
    "clf_rf_mnist = RandomForestClassifier(n_estimators=100, random_state=73)\n",
    "\n",
    "kf = KFold(n_splits=5, shuffle=True, random_state = 73)\n",
    "\n",
    "scores = cross_val_score(clf_rf_mnist, X, y, scoring='accuracy', cv=kf, n_jobs = -1)\n",
    "print('mean = ', scores.mean(), ' std = ', np.std(scores))"
   ]
  },
  {
   "cell_type": "markdown",
   "metadata": {},
   "source": [
    "### 2.3 В чём разница? (3 балла)\n",
    "\n",
    "Ответье на вопрос: Так как признаков становится меньше, поэтому деревья становятся менее коррелированы. А мы их здесь ограничиваем.\n",
    "\n",
    "Странно то как? Почему ограничение на количество признаков в разбиении дерева и ограничение в количестве признаков для построения каждого дерева в BaggingClasifier дало СОВСЕМ разный результат в качестве предсказания? В чем магия?\n",
    "\n",
    "![](https://i.ytimg.com/vi/_5GWMIAHc08/hqdefault.jpg)"
   ]
  },
  {
   "cell_type": "markdown",
   "metadata": {},
   "source": [
    "### 2.4 Количество деревьев (2 балла)\n",
    "\n",
    "Сделайте перебор количества деревьев для `RandomForestClassifier`. Сохраните качества кросс валидации на 10 фолдах для `[1,5,10,15,50,100,150,200,300]` количества деревьев. Нарисуйте график, где по оси x - количество деревьев, а по оси y - качество. При каком количестве деревьев получается самое хорошее качество?"
   ]
  },
  {
   "cell_type": "code",
   "execution_count": 29,
   "metadata": {},
   "outputs": [
    {
     "name": "stdout",
     "output_type": "stream",
     "text": [
      "p =  1  mean =  0.7562414649286158  std =  0.03788677462360695\n",
      "p =  5  mean =  0.9121073867163252  std =  0.019115145819216334\n",
      "p =  10  mean =  0.9432495344506517  std =  0.017183564556041676\n",
      "p =  15  mean =  0.963826815642458  std =  0.011205443894531375\n",
      "p =  50  mean =  0.9732867783985102  std =  0.011643690647294319\n",
      "p =  100  mean =  0.9777498448168839  std =  0.006066107014975462\n",
      "p =  150  mean =  0.9760769708255742  std =  0.008963318751950744\n",
      "p =  200  mean =  0.9766325263811296  std =  0.007793090906299949\n",
      "p =  300  mean =  0.9744040968342643  std =  0.009713749594518341\n"
     ]
    },
    {
     "data": {
      "image/png": "[encoded data removed]",
      "text/plain": [
       "<Figure size 1500x800 with 1 Axes>"
      ]
     },
     "metadata": {},
     "output_type": "display_data"
    }
   ],
   "source": [
    "n_trees = str('1,5,10,15,50,100,150,200,300').split(',')\n",
    "\n",
    "resultScores = []\n",
    "\n",
    "for i in range(len(n_trees)):\n",
    "  clf = RandomForestClassifier(n_estimators = int(n_trees[i]))\n",
    "  cv = KFold(n_splits=10, shuffle=True, random_state = 73)\n",
    "  scores = cross_val_score(clf, X, y, scoring='accuracy', cv=cv, n_jobs = -1)\n",
    "  resultScores.append(scores.mean())\n",
    "  print('p = ', int(n_trees[i]), ' mean = ', scores.mean(), ' std = ', np.std(scores))\n",
    "\n",
    "plt.figure(figsize=(15, 8))\n",
    "plt.plot(n_trees, resultScores)\n",
    "plt.xlabel(\"N Trees\")\n",
    "plt.ylabel(\"Score\")\n",
    "plt.title(\"Accuracy depends on the number of trees\")\n",
    "plt.show()"
   ]
  },
  {
   "cell_type": "markdown",
   "metadata": {},
   "source": [
    "### 2.5 Количество признаков  (2 балла)\n",
    "\n",
    "Переберите теперь максимальное количество признаков для `RandomForestClassifier` на 100 деревьях, от 1 до 64 с шагом 5. Постройте график качества по кроссвалидации на 10 фолдах."
   ]
  },
  {
   "cell_type": "code",
   "execution_count": 30,
   "metadata": {},
   "outputs": [
    {
     "data": {
      "image/png": "[encoded data removed]",
      "text/plain": [
       "<Figure size 1500x800 with 1 Axes>"
      ]
     },
     "metadata": {},
     "output_type": "display_data"
    }
   ],
   "source": [
    "n_features = np.arange(1, 64, 5)\n",
    "resultScores = []\n",
    "for i in n_features:\n",
    "  clf = RandomForestClassifier(n_estimators=100, max_features=int(i), max_samples=5)\n",
    "  cv = KFold(n_splits=10, shuffle=True, random_state = 73)\n",
    "  scores = cross_val_score(clf, X, y, scoring='accuracy', cv=cv, n_jobs = -1)\n",
    "  resultScores.append(scores.mean())\n",
    "    \n",
    "plt.figure(figsize=(15, 8))\n",
    "plt.plot(n_features, resultScores)\n",
    "plt.xlabel(\"N Features\")\n",
    "plt.ylabel(\"Score\")\n",
    "plt.title(\"Dependence on the accuracy of trees\")\n",
    "plt.show()"
   ]
  },
  {
   "cell_type": "markdown",
   "metadata": {},
   "source": [
    "### 2.5 Вопросы по RandomForest (8 баллов)\n",
    "\n",
    "Ответьте на вопросы:\n",
    "\n",
    "- Что происходит с ростом числа деревьев у случайного леса. Можно ли просто всегда брать 5000 деревьев и быть счастливым?\n",
    "- Как зависит качество предсказания в дереве в зависимости от max_features?\n",
    "- Почему качество зависит от max_features?\n",
    "- Как глубина деревьев влияет на качество случайного леса?"
   ]
  },
  {
   "cell_type": "markdown",
   "metadata": {},
   "source": [
    "1. Что происходит с ростом числа деревьев у случайного леса. Можно ли просто всегда брать 5000 деревьев и быть счастливым?\n",
    "\n",
    "Проблема случайного леса в том, что каждое дерево сильно переобучается. Когда деревья компонируют, качество их обучения принимает константное значение, что можно заключить из рисунка выше.\n",
    "\n",
    "2. Как зависит качество предсказания в дереве в зависимости от max_features?\n",
    "\n",
    "Если для обучения модели будет отобрано слишком маленькое количество признаков, модель не сможет установить зависимости между признаками (говорят, не поймает зависимостей). А если количество признаков будет слишком большим то во первых возможно, что некоторые из них будут коррелировать между ними, и необходимо будет анализировать зависимости между ними (мультиколлинеарность), и для этого применяется регуляризаторы, а для поиска например можно использовать коэффициент инфляции дисперсии (VIF).\n",
    "\n",
    "3. Почему качество зависит от max_features?\n",
    "\n",
    "Это связано с тем, что чем меньше признаков выбирается в каждом узле, тем более различными получаются деревья (так как деревья сильно неустойчивы к изменениям в обучающей выборке), и тем лучше работает композиция деревьев. При увеличении max_features увеличивается время построения леса, а деревья становятся «более однообразными»\n",
    "\n",
    "4. Как глубина деревьев влияет на качество случайного леса?\n",
    "\n",
    "Ясно, что чем меньше глубина, тем быстрее строится и работает RF. При увеличении глубины резко возрастает качество на обучении, но и на контроле оно, как правило, увеличивается. Рекомендуется использовать максимальную глубину (кроме случаев, когда объектов слишком много и получаются очень глубокие деревья, построение которых занимает значительное время). При использовании неглубоких деревьев изменение параметров, связанных с ограничением числа объектов в листе и для деления, не приводит к значимому эффекту (листья и так получаются «большими»). Неглубокие деревья рекомендуют использовать в задачах с большим числом шумовых объектов (выбросов)."
   ]
  },
  {
   "cell_type": "markdown",
   "metadata": {},
   "source": [
    "![](https://habrastorage.org/web/ad8/366/a44/ad8366a4469346c6b2e1306495b05d1a.jpg)"
   ]
  }
 ],
 "metadata": {
  "kernelspec": {
   "display_name": "My Kernel",
   "language": "python",
   "name": "env_tensofrlow"
  },
  "language_info": {
   "codemirror_mode": {
    "name": "ipython",
    "version": 3
   },
   "file_extension": ".py",
   "mimetype": "text/x-python",
   "name": "python",
   "nbconvert_exporter": "python",
   "pygments_lexer": "ipython3",
   "version": "3.10.15"
  }
 },
 "nbformat": 4,
 "nbformat_minor": 2
}
