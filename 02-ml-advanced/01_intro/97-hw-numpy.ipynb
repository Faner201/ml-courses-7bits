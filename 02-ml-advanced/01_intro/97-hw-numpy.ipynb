{
 "cells": [
  {
   "cell_type": "markdown",
   "metadata": {},
   "source": [
    "# Worshop 2.1 Numpy\n",
    "\n",
    "1. Скачайте этот ноутбук к себе.\n",
    "2. Заполните пропущенные ячейки, отвечая на заданные вопросы. Там должен быть код! (если не сказано обратное)\n",
    "3. Сохраните результат в своём гитхаб репозитории.\n",
    "\n",
    "#### Полезная литература\n",
    "\n",
    "- http://www.numpy.org/\n",
    "- https://jakevdp.github.io/PythonDataScienceHandbook/02.00-introduction-to-numpy.html\n",
    "- https://docs.scipy.org/doc/numpy/user/quickstart.html"
   ]
  },
  {
   "cell_type": "markdown",
   "metadata": {},
   "source": [
    "1) Импортировать numpy и написать версию"
   ]
  },
  {
   "cell_type": "code",
   "execution_count": 1,
   "metadata": {},
   "outputs": [
    {
     "data": {
      "text/plain": [
       "'1.26.4'"
      ]
     },
     "execution_count": 1,
     "metadata": {},
     "output_type": "execute_result"
    }
   ],
   "source": [
    "import numpy as np\n",
    "np.__version__"
   ]
  },
  {
   "cell_type": "markdown",
   "metadata": {},
   "source": [
    "2) Создать нулевой вектор размера 10"
   ]
  },
  {
   "cell_type": "code",
   "execution_count": 2,
   "metadata": {},
   "outputs": [
    {
     "name": "stdout",
     "output_type": "stream",
     "text": [
      "[0. 0. 0. 0. 0. 0. 0. 0. 0. 0.]\n"
     ]
    }
   ],
   "source": [
    "print(np.zeros(10))"
   ]
  },
  {
   "cell_type": "markdown",
   "metadata": {},
   "source": [
    "3) Создать вектор заполненный 7-ами размера 7"
   ]
  },
  {
   "cell_type": "code",
   "execution_count": 4,
   "metadata": {},
   "outputs": [
    {
     "name": "stdout",
     "output_type": "stream",
     "text": [
      "[7 7 7 7 7 7 7]\n"
     ]
    }
   ],
   "source": [
    "print(np.full(7, 7))"
   ]
  },
  {
   "cell_type": "markdown",
   "metadata": {},
   "source": [
    "4) Создать вектор заполненный четными числами от 10 до 100"
   ]
  },
  {
   "cell_type": "code",
   "execution_count": 5,
   "metadata": {},
   "outputs": [
    {
     "name": "stdout",
     "output_type": "stream",
     "text": [
      "[ 10  12  14  16  18  20  22  24  26  28  30  32  34  36  38  40  42  44\n",
      "  46  48  50  52  54  56  58  60  62  64  66  68  70  72  74  76  78  80\n",
      "  82  84  86  88  90  92  94  96  98 100]\n"
     ]
    }
   ],
   "source": [
    "print(np.arange(10, 101, 2))"
   ]
  },
  {
   "cell_type": "markdown",
   "metadata": {},
   "source": [
    "5) Создать массив случайных чисел и развернуть его задом наперёд"
   ]
  },
  {
   "cell_type": "code",
   "execution_count": 6,
   "metadata": {},
   "outputs": [
    {
     "name": "stdout",
     "output_type": "stream",
     "text": [
      "[2 9 1 8 5 0 8 1 1 6]\n",
      "[6 1 1 8 0 5 8 1 9 2]\n"
     ]
    }
   ],
   "source": [
    "random_array = np.random.randint(0, 10, size=10)\n",
    "print(random_array)\n",
    "print(random_array[::-1])"
   ]
  },
  {
   "cell_type": "markdown",
   "metadata": {},
   "source": [
    "6) Создать двумерную матрицу размера 3 на 3, заполненную числами от 0 до 9"
   ]
  },
  {
   "cell_type": "code",
   "execution_count": 7,
   "metadata": {},
   "outputs": [
    {
     "name": "stdout",
     "output_type": "stream",
     "text": [
      "[[0 1 2]\n",
      " [3 4 5]\n",
      " [6 7 8]]\n"
     ]
    }
   ],
   "source": [
    "print(np.arange(9).reshape(3, 3))"
   ]
  },
  {
   "cell_type": "markdown",
   "metadata": {},
   "source": [
    "7) Создать матрицу размера 4 на 4 с единицами на диагонали смещеной на один наверх."
   ]
  },
  {
   "cell_type": "code",
   "execution_count": 8,
   "metadata": {},
   "outputs": [
    {
     "name": "stdout",
     "output_type": "stream",
     "text": [
      "[[0. 1. 0. 0.]\n",
      " [0. 0. 1. 0.]\n",
      " [0. 0. 0. 1.]\n",
      " [0. 0. 0. 0.]]\n"
     ]
    }
   ],
   "source": [
    "\n",
    "print(np.eye(4, k=1))"
   ]
  },
  {
   "cell_type": "markdown",
   "metadata": {},
   "source": [
    "8) Создать матрицу с числами в диапазоне от 1 до 4 по диагонали. В других ячейках матрицы должны быть семерки."
   ]
  },
  {
   "cell_type": "code",
   "execution_count": 9,
   "metadata": {},
   "outputs": [
    {
     "name": "stdout",
     "output_type": "stream",
     "text": [
      "[[1 7 7 7]\n",
      " [7 2 7 7]\n",
      " [7 7 3 7]\n",
      " [7 7 7 4]]\n"
     ]
    }
   ],
   "source": [
    "matrix = np.full((4, 4), 7)\n",
    "\n",
    "np.fill_diagonal(matrix, [1, 2, 3, 4])\n",
    "\n",
    "print(matrix)"
   ]
  },
  {
   "cell_type": "markdown",
   "metadata": {},
   "source": [
    "9) Создать матрицу размера 5 на 5 заполненную чилами от 0 до 4 в строках."
   ]
  },
  {
   "cell_type": "code",
   "execution_count": 10,
   "metadata": {},
   "outputs": [
    {
     "name": "stdout",
     "output_type": "stream",
     "text": [
      "[[0 1 2 3 4]\n",
      " [0 1 2 3 4]\n",
      " [0 1 2 3 4]\n",
      " [0 1 2 3 4]\n",
      " [0 1 2 3 4]]\n"
     ]
    }
   ],
   "source": [
    "print(np.tile(np.arange(5), (5, 1)))"
   ]
  },
  {
   "cell_type": "markdown",
   "metadata": {},
   "source": [
    "10) Создать матрицу случайных чисел размера 10 на 10 и отнять среднее по строкам из каждого элемента строки"
   ]
  },
  {
   "cell_type": "code",
   "execution_count": 11,
   "metadata": {},
   "outputs": [
    {
     "name": "stdout",
     "output_type": "stream",
     "text": [
      "[[ 0.2  1.2 -1.8  2.2 -3.8  3.2 -0.8  2.2 -2.8  0.2]\n",
      " [-5.2  1.8  3.8 -3.2 -3.2  0.8  2.8  0.8 -0.2  1.8]\n",
      " [ 1.   1.  -2.   1.  -3.  -4.   5.   0.   5.  -4. ]\n",
      " [-1.  -3.   2.   5.   0.   1.   1.  -2.  -1.  -2. ]\n",
      " [ 0.6  1.6  4.6 -2.4 -0.4 -1.4 -2.4  3.6 -3.4 -0.4]\n",
      " [ 3.   0.  -3.  -1.   1.  -3.   0.   3.   2.  -2. ]\n",
      " [ 3.1  2.1  3.1 -1.9 -3.9 -3.9 -3.9  3.1 -2.9  5.1]\n",
      " [ 3.4 -1.6 -4.6  3.4 -3.6 -0.6  2.4  0.4  3.4 -2.6]\n",
      " [-0.8 -1.8  4.2 -2.8 -2.8  4.2  3.2 -2.8  1.2 -1.8]\n",
      " [ 5.7  0.7 -2.3 -0.3  0.7  2.7 -2.3 -3.3 -1.3 -0.3]]\n"
     ]
    }
   ],
   "source": [
    "matrix = np.random.randint(0, 10, size=(10, 10))\n",
    "row_means = matrix.mean(axis=1, keepdims=True)\n",
    "result_matrix = matrix - row_means\n",
    "\n",
    "print(result_matrix)"
   ]
  },
  {
   "cell_type": "markdown",
   "metadata": {},
   "source": [
    "11) Создать матрицу случайных чисел размера 10 на 10 и отнять медиану по столбцам из каждого элемента столбца  "
   ]
  },
  {
   "cell_type": "code",
   "execution_count": 12,
   "metadata": {},
   "outputs": [
    {
     "name": "stdout",
     "output_type": "stream",
     "text": [
      "[[ 2.   2.5 -2.5 -3.   5.  -1.   3.   6.  -2.   4.5]\n",
      " [-3.   2.5  0.5 -4.   6.   0.  -5.  -2.   6.  -0.5]\n",
      " [ 3.  -3.5 -0.5  5.   6.  -2.   1.  -2.  -3.  -1.5]\n",
      " [ 0.   2.5 -3.5 -4.  -3.   1.  -1.  -2.   0.  -1.5]\n",
      " [ 5.  -0.5  0.5 -3.   1.   3.   2.  -1.   1.  -3.5]\n",
      " [-3.  -2.5  0.5  5.  -2.   3.   3.   0.  -3.   3.5]\n",
      " [ 0.   0.5 -0.5  5.  -3.   0.  -4.   1.  -1.   0.5]\n",
      " [-3.  -3.5  1.5  3.  -2.   0.  -6.   1.   4.   1.5]\n",
      " [ 0.  -5.5  0.5  5.   4.   2.   2.   0.   0.  -4.5]\n",
      " [-2.   3.5 -1.5 -4.  -1.  -1.  -1.   5.   4.   0.5]]\n"
     ]
    }
   ],
   "source": [
    "matrix = np.random.randint(0, 10, size=(10, 10))\n",
    "column_medians = np.median(matrix, axis=0)\n",
    "result_matrix = matrix - column_medians\n",
    "\n",
    "print(result_matrix)"
   ]
  },
  {
   "cell_type": "markdown",
   "metadata": {},
   "source": [
    "12) Создать матрицу случайных чисел 5x5. Добавить к ней столбецы максимумов и минимумов по строкам. Получится матрица 5x7.  "
   ]
  },
  {
   "cell_type": "code",
   "execution_count": 13,
   "metadata": {},
   "outputs": [
    {
     "name": "stdout",
     "output_type": "stream",
     "text": [
      "[[0 2 4 7 0 7 0]\n",
      " [1 8 2 6 2 8 1]\n",
      " [4 5 3 4 2 5 2]\n",
      " [8 7 4 1 7 8 1]\n",
      " [1 1 5 6 1 6 1]]\n"
     ]
    }
   ],
   "source": [
    "matrix = np.random.randint(0, 10, size=(5, 5))\n",
    "\n",
    "row_maxs = matrix.max(axis=1, keepdims=True)\n",
    "row_mins = matrix.min(axis=1, keepdims=True)\n",
    "\n",
    "extended_matrix = np.hstack((matrix, row_maxs, row_mins))\n",
    "\n",
    "print(extended_matrix)"
   ]
  },
  {
   "cell_type": "markdown",
   "metadata": {},
   "source": [
    "13) Вектор чисел от 1 до 51 преобразовать в вектор нечетных чисел и в вектор четных чисел, поменять их размерности, чтобы получились две матрица. Найти произведение этих матриц. Найти обратную матрицу эётого произведения.  "
   ]
  },
  {
   "cell_type": "code",
   "execution_count": 15,
   "metadata": {},
   "outputs": [
    {
     "name": "stdout",
     "output_type": "stream",
     "text": [
      "Обратная матрица:\n",
      " [[-1.47679962e+11 -1.83887787e+12  3.34775496e+12 -5.88156445e+11\n",
      "  -7.73040676e+11]\n",
      " [ 1.01212042e+13 -1.18649064e+13 -5.47581546e+11 -3.79493456e+12\n",
      "   6.08621830e+12]\n",
      " [-2.03455911e+13  2.87474748e+13 -5.87413759e+12  6.88821520e+12\n",
      "  -9.41596130e+12]\n",
      " [ 1.09182893e+13 -1.45447188e+13 -0.00000000e+00 -3.90009491e+10\n",
      "   3.66543041e+12]\n",
      " [-5.46222520e+11 -4.98971679e+11  3.07396418e+12 -2.46612325e+12\n",
      "   4.37353266e+11]]\n"
     ]
    }
   ],
   "source": [
    "vector = np.arange(1, 51)\n",
    "\n",
    "odd_numbers = vector[vector % 2 != 0]\n",
    "even_numbers = vector[vector % 2 == 0]\n",
    "\n",
    "odd_matrix = odd_numbers.reshape(5, 5)\n",
    "even_matrix = even_numbers.reshape(5, 5)\n",
    "\n",
    "product_matrix = np.dot(odd_matrix, even_matrix)\n",
    "\n",
    "try:\n",
    "    inverse_matrix = np.linalg.inv(product_matrix)\n",
    "    print(\"Обратная матрица:\\n\", inverse_matrix)\n",
    "except np.linalg.LinAlgError:\n",
    "    print(\"Обратная матрица не существует (матрица вырождена).\")"
   ]
  },
  {
   "cell_type": "markdown",
   "metadata": {},
   "source": [
    "14) Создать 8x8 матрицу и заполнить её в шахматном порядке нулями и единицами. "
   ]
  },
  {
   "cell_type": "code",
   "execution_count": 16,
   "metadata": {},
   "outputs": [
    {
     "name": "stdout",
     "output_type": "stream",
     "text": [
      "[[0 1 0 1 0 1 0 1]\n",
      " [1 0 1 0 1 0 1 0]\n",
      " [0 1 0 1 0 1 0 1]\n",
      " [1 0 1 0 1 0 1 0]\n",
      " [0 1 0 1 0 1 0 1]\n",
      " [1 0 1 0 1 0 1 0]\n",
      " [0 1 0 1 0 1 0 1]\n",
      " [1 0 1 0 1 0 1 0]]\n"
     ]
    }
   ],
   "source": [
    "matrix = np.zeros((8, 8), dtype=int)\n",
    "\n",
    "matrix[::2, 1::2] = 1 \n",
    "matrix[1::2, ::2] = 1  \n",
    "\n",
    "print(matrix)"
   ]
  },
  {
   "cell_type": "code",
   "execution_count": null,
   "metadata": {},
   "outputs": [],
   "source": []
  }
 ],
 "metadata": {
  "kernelspec": {
   "display_name": "My Kernel",
   "language": "python",
   "name": "env_tensofrlow"
  },
  "language_info": {
   "codemirror_mode": {
    "name": "ipython",
    "version": 3
   },
   "file_extension": ".py",
   "mimetype": "text/x-python",
   "name": "python",
   "nbconvert_exporter": "python",
   "pygments_lexer": "ipython3",
   "version": "3.10.15"
  }
 },
 "nbformat": 4,
 "nbformat_minor": 4
}
